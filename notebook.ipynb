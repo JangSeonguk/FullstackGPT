{
 "cells": [
  {
   "cell_type": "code",
   "execution_count": 13,
   "metadata": {},
   "outputs": [
    {
     "name": "stdout",
     "output_type": "stream",
     "text": [
      "무한한 우주 속 파이썬,\n",
      "달콤한 문법, 그 유혹.\n",
      "변수와 함수가 춤을 추며,\n",
      "알고리즘이 노래를 부르네.\n",
      "\n",
      "흰눈 같은 들여쓰기,\n",
      "맑고 투명한 코드의 강.\n",
      "조건문과 반복문이 노래하며,\n",
      "데이터를 품고 흐르는 시간.\n",
      "\n",
      "우아한 객체지향의 미학,\n",
      "상속과 다형성의 춤.\n",
      "모듈과 패키지가 빛을 발하며,\n",
      "파이썬의 세계는 환상.\n",
      "\n",
      "그 이름만으로도 마음 설레고,\n",
      "눈부신 파이썬의 세계.\n",
      "코딩의 미학, 그 아름다움에,\n",
      "나는 마음을 잃었네.첫째 줄: 우주 같이 넓고 광대한 프로그래밍 언어인 파이썬을 비유하고 있습니다.\n",
      "\n",
      "둘째 줄: 파이썬의 문법이 달콤하고 유혹적이라는 표현으로 파이썬을 배우는 것이 즐겁고 편안하다는 것을 나타냅니다.\n",
      "\n",
      "셋째 줄: 변수와 함수가 춤을 추는 것은 프로그램이 실행될 때 변수와 함수끼리 상호작용하여 움직인다는 의미입니다. 알고리즘이 노래를 부른다는 것은 프로그램이 실행될 때 코드들이 함께 조화롭게 동작한다는 의미일 수 있습니다.\n",
      "\n",
      "넷째 줄: 코드의 가독성을 높이기 위해 들여쓰기를 언급하고, 조건문과 반복문이 노래한다는 표현으로 코드의 흐름을 설명하고 있습니다.\n",
      "\n",
      "다섯째 줄: 객체지향 프로그래밍의 미학을 언급하고, 상속과 다형성이라는 객체지향의 개념을 언급하며 파이썬의 강점을 소개하고 있습니다.\n",
      "\n",
      "여섯째 줄: 파이썬의 세계를 환상적이고 아름답다고 표현하며, 코딩의 아름다움에 마음을 잃었다는 느낌을 표현하고 있습니다."
     ]
    },
    {
     "data": {
      "text/plain": [
       "AIMessageChunk(content='첫째 줄: 우주 같이 넓고 광대한 프로그래밍 언어인 파이썬을 비유하고 있습니다.\\n\\n둘째 줄: 파이썬의 문법이 달콤하고 유혹적이라는 표현으로 파이썬을 배우는 것이 즐겁고 편안하다는 것을 나타냅니다.\\n\\n셋째 줄: 변수와 함수가 춤을 추는 것은 프로그램이 실행될 때 변수와 함수끼리 상호작용하여 움직인다는 의미입니다. 알고리즘이 노래를 부른다는 것은 프로그램이 실행될 때 코드들이 함께 조화롭게 동작한다는 의미일 수 있습니다.\\n\\n넷째 줄: 코드의 가독성을 높이기 위해 들여쓰기를 언급하고, 조건문과 반복문이 노래한다는 표현으로 코드의 흐름을 설명하고 있습니다.\\n\\n다섯째 줄: 객체지향 프로그래밍의 미학을 언급하고, 상속과 다형성이라는 객체지향의 개념을 언급하며 파이썬의 강점을 소개하고 있습니다.\\n\\n여섯째 줄: 파이썬의 세계를 환상적이고 아름답다고 표현하며, 코딩의 아름다움에 마음을 잃었다는 느낌을 표현하고 있습니다.')"
      ]
     },
     "execution_count": 13,
     "metadata": {},
     "output_type": "execute_result"
    }
   ],
   "source": [
    "from langchain.chat_models import ChatOpenAI\n",
    "from langchain.prompts import ChatPromptTemplate\n",
    "from langchain.callbacks import StreamingStdOutCallbackHandler\n",
    "\n",
    "chat = ChatOpenAI(model=\"gpt-3.5-turbo\",temperature=0.9, streaming=True, callbacks=[StreamingStdOutCallbackHandler()])\n",
    "\n",
    "poet_prompt = ChatPromptTemplate.from_messages([\n",
    "    (\"system\",\"당신은 컴퓨터공학을 전공했지만, 감성적인 시를 짓는 유명한 시인입니다. 비유법을 많이 사용하고 한국어로 답변합니다.\"),\n",
    "    (\"human\",\"밤새 코딩을 하다가 프로그래밍 언어인 {language}의 아름다움에 반한 시를 한편 작성해줘.\"),\n",
    "])\n",
    "\n",
    "poet_chain = poet_prompt |chat\n",
    "\n",
    "poem_analyzer_prompt = ChatPromptTemplate.from_messages([\n",
    "    (\"system\",\"당신은 초등학생들에게 시를 가르치는 선생님 입니다. 초등학생도 이해하기 쉽도록 시를 분석하고 한줄씩 설명합니다. \"),\n",
    "    (\"human\",\"{poem}에 대해서 해석해주세요.\"),\n",
    "])\n",
    "\n",
    "poem_analyzer_chain = poem_analyzer_prompt | chat\n",
    "\n",
    "final_chain = {\"poem\":poet_chain} | poem_analyzer_chain\n",
    "\n",
    "final_chain.invoke({\"language\":input(\"프로그래밍 언어를 적어주세요.\")})"
   ]
  },
  {
   "cell_type": "markdown",
   "metadata": {},
   "source": []
  }
 ],
 "metadata": {
  "kernelspec": {
   "display_name": "env",
   "language": "python",
   "name": "python3"
  },
  "language_info": {
   "codemirror_mode": {
    "name": "ipython",
    "version": 3
   },
   "file_extension": ".py",
   "mimetype": "text/x-python",
   "name": "python",
   "nbconvert_exporter": "python",
   "pygments_lexer": "ipython3",
   "version": "3.11.6"
  }
 },
 "nbformat": 4,
 "nbformat_minor": 2
}
